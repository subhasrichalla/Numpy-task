{
 "cells": [
  {
   "cell_type": "markdown",
   "id": "6cb7b93f",
   "metadata": {},
   "source": [
    "### 1.Write python code to create array in different ways\n"
   ]
  },
  {
   "cell_type": "code",
   "execution_count": 1,
   "id": "12509650",
   "metadata": {},
   "outputs": [],
   "source": [
    "import numpy as py"
   ]
  },
  {
   "cell_type": "code",
   "execution_count": 3,
   "id": "a598d746",
   "metadata": {},
   "outputs": [
    {
     "data": {
      "text/plain": [
       "array([10, 20, 30, 40, 50])"
      ]
     },
     "execution_count": 3,
     "metadata": {},
     "output_type": "execute_result"
    }
   ],
   "source": [
    "arr = py.array([10,20,30,40,50])\n",
    "arr"
   ]
  },
  {
   "cell_type": "code",
   "execution_count": 5,
   "id": "1901b3a4",
   "metadata": {},
   "outputs": [
    {
     "data": {
      "text/plain": [
       "array([1, 2, 3, 4, 5])"
      ]
     },
     "execution_count": 5,
     "metadata": {},
     "output_type": "execute_result"
    }
   ],
   "source": [
    "## method 2 using tuple:\n",
    "arr = py.array((1,2,3,4,5))\n",
    "arr"
   ]
  },
  {
   "cell_type": "code",
   "execution_count": 7,
   "id": "126a9591",
   "metadata": {},
   "outputs": [
    {
     "data": {
      "text/plain": [
       "array([0., 0., 0., 0., 0.])"
      ]
     },
     "execution_count": 7,
     "metadata": {},
     "output_type": "execute_result"
    }
   ],
   "source": [
    "# method 3-  np.zeros()-array filled with all zeros\n",
    "\n",
    "arr = py.zeros(5)\n",
    "arr"
   ]
  },
  {
   "cell_type": "code",
   "execution_count": 8,
   "id": "9386a67b",
   "metadata": {},
   "outputs": [
    {
     "data": {
      "text/plain": [
       "array([1., 1., 1., 1., 1.])"
      ]
     },
     "execution_count": 8,
     "metadata": {},
     "output_type": "execute_result"
    }
   ],
   "source": [
    "# method 4- np.ones()-array filled with all ones\n",
    "\n",
    "arr = py.ones(5)\n",
    "arr"
   ]
  },
  {
   "cell_type": "code",
   "execution_count": 9,
   "id": "c6a22dde",
   "metadata": {},
   "outputs": [
    {
     "data": {
      "text/plain": [
       "array([1, 2, 3, 4, 5, 6, 7, 8, 9])"
      ]
     },
     "execution_count": 9,
     "metadata": {},
     "output_type": "execute_result"
    }
   ],
   "source": [
    "# method 5- np.arange()-array filled with regularly spaced values\n",
    "\n",
    "arr = py.arange(1,10)\n",
    "arr"
   ]
  },
  {
   "cell_type": "code",
   "execution_count": 10,
   "id": "1db30ceb",
   "metadata": {},
   "outputs": [
    {
     "data": {
      "text/plain": [
       "array([ 1.,  4.,  7., 10.])"
      ]
     },
     "execution_count": 10,
     "metadata": {},
     "output_type": "execute_result"
    }
   ],
   "source": [
    "# method 6 - np.linspace()-array filled with evenly spaced values\n",
    "\n",
    "arr = py.linspace(1,10,4)\n",
    "arr"
   ]
  },
  {
   "cell_type": "markdown",
   "id": "24bdaa47",
   "metadata": {},
   "source": [
    "## 2.array creation\n",
    "a.create a 1D Numpy array containing the first 12 positive integer as arr1"
   ]
  },
  {
   "cell_type": "code",
   "execution_count": 13,
   "id": "80b24b19",
   "metadata": {},
   "outputs": [
    {
     "data": {
      "text/plain": [
       "array([ 1,  2,  3,  4,  5,  6,  7,  8,  9, 10, 11, 12])"
      ]
     },
     "execution_count": 13,
     "metadata": {},
     "output_type": "execute_result"
    }
   ],
   "source": [
    "arr1 = py.arange(1,13)\n",
    "arr1"
   ]
  },
  {
   "cell_type": "code",
   "execution_count": 14,
   "id": "8bd50fa4",
   "metadata": {},
   "outputs": [
    {
     "data": {
      "text/plain": [
       "12"
      ]
     },
     "execution_count": 14,
     "metadata": {},
     "output_type": "execute_result"
    }
   ],
   "source": [
    "len(arr1)"
   ]
  },
  {
   "cell_type": "code",
   "execution_count": 15,
   "id": "b43781f7",
   "metadata": {},
   "outputs": [
    {
     "data": {
      "text/plain": [
       "numpy.ndarray"
      ]
     },
     "execution_count": 15,
     "metadata": {},
     "output_type": "execute_result"
    }
   ],
   "source": [
    "type(arr1)"
   ]
  },
  {
   "cell_type": "code",
   "execution_count": 16,
   "id": "d696b7ab",
   "metadata": {},
   "outputs": [
    {
     "data": {
      "text/plain": [
       "2224498439056"
      ]
     },
     "execution_count": 16,
     "metadata": {},
     "output_type": "execute_result"
    }
   ],
   "source": [
    "id(arr1)"
   ]
  },
  {
   "cell_type": "markdown",
   "id": "1fa245c1",
   "metadata": {},
   "source": [
    "## b.create a 1D Numpy array1 with 20 elements containing integer between 0 and 12 using linspace"
   ]
  },
  {
   "cell_type": "code",
   "execution_count": 17,
   "id": "78b14969",
   "metadata": {},
   "outputs": [],
   "source": [
    "arr2= py.linspace(1,12,20)"
   ]
  },
  {
   "cell_type": "code",
   "execution_count": 18,
   "id": "6b4acc5f",
   "metadata": {},
   "outputs": [
    {
     "data": {
      "text/plain": [
       "array([ 1.        ,  1.57894737,  2.15789474,  2.73684211,  3.31578947,\n",
       "        3.89473684,  4.47368421,  5.05263158,  5.63157895,  6.21052632,\n",
       "        6.78947368,  7.36842105,  7.94736842,  8.52631579,  9.10526316,\n",
       "        9.68421053, 10.26315789, 10.84210526, 11.42105263, 12.        ])"
      ]
     },
     "execution_count": 18,
     "metadata": {},
     "output_type": "execute_result"
    }
   ],
   "source": [
    "arr2"
   ]
  },
  {
   "cell_type": "code",
   "execution_count": 19,
   "id": "4370c992",
   "metadata": {},
   "outputs": [
    {
     "data": {
      "text/plain": [
       "20"
      ]
     },
     "execution_count": 19,
     "metadata": {},
     "output_type": "execute_result"
    }
   ],
   "source": [
    "len(arr2)"
   ]
  },
  {
   "cell_type": "code",
   "execution_count": 20,
   "id": "ed7bbc09",
   "metadata": {},
   "outputs": [
    {
     "data": {
      "text/plain": [
       "numpy.ndarray"
      ]
     },
     "execution_count": 20,
     "metadata": {},
     "output_type": "execute_result"
    }
   ],
   "source": [
    "type(arr2)"
   ]
  },
  {
   "cell_type": "code",
   "execution_count": 21,
   "id": "67160e11",
   "metadata": {},
   "outputs": [
    {
     "data": {
      "text/plain": [
       "2224498440112"
      ]
     },
     "execution_count": 21,
     "metadata": {},
     "output_type": "execute_result"
    }
   ],
   "source": [
    "id(arr2)"
   ]
  },
  {
   "cell_type": "markdown",
   "id": "7b6c5819",
   "metadata": {},
   "source": [
    "## 3.find all attributes of arr1 and arr2\n"
   ]
  },
  {
   "cell_type": "markdown",
   "id": "e0307873",
   "metadata": {},
   "source": [
    "### arr1"
   ]
  },
  {
   "cell_type": "code",
   "execution_count": 22,
   "id": "0e3603ef",
   "metadata": {},
   "outputs": [
    {
     "data": {
      "text/plain": [
       "dtype('int32')"
      ]
     },
     "execution_count": 22,
     "metadata": {},
     "output_type": "execute_result"
    }
   ],
   "source": [
    "arr1.dtype"
   ]
  },
  {
   "cell_type": "code",
   "execution_count": 23,
   "id": "f25db745",
   "metadata": {},
   "outputs": [
    {
     "data": {
      "text/plain": [
       "12"
      ]
     },
     "execution_count": 23,
     "metadata": {},
     "output_type": "execute_result"
    }
   ],
   "source": [
    "arr1.size"
   ]
  },
  {
   "cell_type": "code",
   "execution_count": 24,
   "id": "be2682b2",
   "metadata": {},
   "outputs": [
    {
     "data": {
      "text/plain": [
       "48"
      ]
     },
     "execution_count": 24,
     "metadata": {},
     "output_type": "execute_result"
    }
   ],
   "source": [
    "arr1.nbytes"
   ]
  },
  {
   "cell_type": "code",
   "execution_count": 25,
   "id": "387d3a80",
   "metadata": {},
   "outputs": [
    {
     "data": {
      "text/plain": [
       "4"
      ]
     },
     "execution_count": 25,
     "metadata": {},
     "output_type": "execute_result"
    }
   ],
   "source": [
    "arr1.itemsize"
   ]
  },
  {
   "cell_type": "markdown",
   "id": "b45627e2",
   "metadata": {},
   "source": [
    "### arr2"
   ]
  },
  {
   "cell_type": "code",
   "execution_count": 26,
   "id": "dcbf413a",
   "metadata": {},
   "outputs": [
    {
     "data": {
      "text/plain": [
       "dtype('float64')"
      ]
     },
     "execution_count": 26,
     "metadata": {},
     "output_type": "execute_result"
    }
   ],
   "source": [
    "arr2.dtype"
   ]
  },
  {
   "cell_type": "code",
   "execution_count": 27,
   "id": "ecd2a010",
   "metadata": {},
   "outputs": [
    {
     "data": {
      "text/plain": [
       "20"
      ]
     },
     "execution_count": 27,
     "metadata": {},
     "output_type": "execute_result"
    }
   ],
   "source": [
    "arr2.size"
   ]
  },
  {
   "cell_type": "code",
   "execution_count": 28,
   "id": "facee630",
   "metadata": {},
   "outputs": [
    {
     "data": {
      "text/plain": [
       "160"
      ]
     },
     "execution_count": 28,
     "metadata": {},
     "output_type": "execute_result"
    }
   ],
   "source": [
    "arr2.nbytes"
   ]
  },
  {
   "cell_type": "code",
   "execution_count": 29,
   "id": "fccd4c30",
   "metadata": {},
   "outputs": [
    {
     "data": {
      "text/plain": [
       "8"
      ]
     },
     "execution_count": 29,
     "metadata": {},
     "output_type": "execute_result"
    }
   ],
   "source": [
    "arr2.itemsize"
   ]
  },
  {
   "cell_type": "markdown",
   "id": "4b09ea40",
   "metadata": {},
   "source": [
    "## 4.apply measure and describe the data(attribue and statistics) to above arrays using Numpy"
   ]
  },
  {
   "cell_type": "markdown",
   "id": "b2909c47",
   "metadata": {},
   "source": [
    "### arr1"
   ]
  },
  {
   "cell_type": "code",
   "execution_count": 30,
   "id": "bea17935",
   "metadata": {},
   "outputs": [
    {
     "data": {
      "text/plain": [
       "array([ 1,  2,  3,  4,  5,  6,  7,  8,  9, 10, 11, 12])"
      ]
     },
     "execution_count": 30,
     "metadata": {},
     "output_type": "execute_result"
    }
   ],
   "source": [
    "arr1"
   ]
  },
  {
   "cell_type": "code",
   "execution_count": 31,
   "id": "71b42885",
   "metadata": {},
   "outputs": [
    {
     "data": {
      "text/plain": [
       "6.5"
      ]
     },
     "execution_count": 31,
     "metadata": {},
     "output_type": "execute_result"
    }
   ],
   "source": [
    "py.mean(arr1)"
   ]
  },
  {
   "cell_type": "code",
   "execution_count": 32,
   "id": "e26f684f",
   "metadata": {},
   "outputs": [
    {
     "data": {
      "text/plain": [
       "6.5"
      ]
     },
     "execution_count": 32,
     "metadata": {},
     "output_type": "execute_result"
    }
   ],
   "source": [
    "py.median(arr1)"
   ]
  },
  {
   "cell_type": "code",
   "execution_count": 33,
   "id": "e8e3502d",
   "metadata": {},
   "outputs": [
    {
     "data": {
      "text/plain": [
       "11"
      ]
     },
     "execution_count": 33,
     "metadata": {},
     "output_type": "execute_result"
    }
   ],
   "source": [
    "range = max(arr1) - min(arr1)\n",
    "range"
   ]
  },
  {
   "cell_type": "code",
   "execution_count": 34,
   "id": "964fc90c",
   "metadata": {},
   "outputs": [
    {
     "data": {
      "text/plain": [
       "11.916666666666666"
      ]
     },
     "execution_count": 34,
     "metadata": {},
     "output_type": "execute_result"
    }
   ],
   "source": [
    "py.var(arr1)"
   ]
  },
  {
   "cell_type": "code",
   "execution_count": 35,
   "id": "a11b4c9c",
   "metadata": {},
   "outputs": [
    {
     "data": {
      "text/plain": [
       "3.452052529534663"
      ]
     },
     "execution_count": 35,
     "metadata": {},
     "output_type": "execute_result"
    }
   ],
   "source": [
    "py.std(arr1)"
   ]
  },
  {
   "cell_type": "code",
   "execution_count": 36,
   "id": "cb84144c",
   "metadata": {},
   "outputs": [
    {
     "data": {
      "text/plain": [
       "5.5"
      ]
     },
     "execution_count": 36,
     "metadata": {},
     "output_type": "execute_result"
    }
   ],
   "source": [
    "q1 = py.percentile(arr1,25)\n",
    "q3 = py.percentile(arr1,75)\n",
    "IQR = q3- q1\n",
    "IQR"
   ]
  },
  {
   "cell_type": "code",
   "execution_count": 38,
   "id": "c43ee8e8",
   "metadata": {},
   "outputs": [
    {
     "name": "stdout",
     "output_type": "stream",
     "text": [
      "lower_limit: -4.5\n",
      "upper_limit: 17.5\n"
     ]
    }
   ],
   "source": [
    "lower_limit = q1 - (1.5)*(IQR)\n",
    "print(\"lower_limit:\",lower_limit)\n",
    "upper_limit = q3 + (1.5)*(IQR)\n",
    "print(\"upper_limit:\",upper_limit)"
   ]
  },
  {
   "cell_type": "code",
   "execution_count": 39,
   "id": "e0904859",
   "metadata": {},
   "outputs": [
    {
     "name": "stdout",
     "output_type": "stream",
     "text": [
      "[]\n",
      "[]\n"
     ]
    }
   ],
   "source": [
    "print(arr1[arr1>upper_limit])  # outlier-there is no outliers in arr1\n",
    "print(arr1[arr1<lower_limit])"
   ]
  },
  {
   "cell_type": "markdown",
   "id": "863f2725",
   "metadata": {},
   "source": [
    "### arr2"
   ]
  },
  {
   "cell_type": "code",
   "execution_count": 40,
   "id": "d2ccf471",
   "metadata": {},
   "outputs": [
    {
     "data": {
      "text/plain": [
       "array([ 1.        ,  1.57894737,  2.15789474,  2.73684211,  3.31578947,\n",
       "        3.89473684,  4.47368421,  5.05263158,  5.63157895,  6.21052632,\n",
       "        6.78947368,  7.36842105,  7.94736842,  8.52631579,  9.10526316,\n",
       "        9.68421053, 10.26315789, 10.84210526, 11.42105263, 12.        ])"
      ]
     },
     "execution_count": 40,
     "metadata": {},
     "output_type": "execute_result"
    }
   ],
   "source": [
    "arr2"
   ]
  },
  {
   "cell_type": "code",
   "execution_count": 41,
   "id": "0b53c902",
   "metadata": {},
   "outputs": [
    {
     "data": {
      "text/plain": [
       "6.5"
      ]
     },
     "execution_count": 41,
     "metadata": {},
     "output_type": "execute_result"
    }
   ],
   "source": [
    "py.mean(arr2)"
   ]
  },
  {
   "cell_type": "code",
   "execution_count": 42,
   "id": "e15c8ed3",
   "metadata": {},
   "outputs": [
    {
     "data": {
      "text/plain": [
       "6.5"
      ]
     },
     "execution_count": 42,
     "metadata": {},
     "output_type": "execute_result"
    }
   ],
   "source": [
    "py.median(arr2)"
   ]
  },
  {
   "cell_type": "code",
   "execution_count": 44,
   "id": "3e010c72",
   "metadata": {},
   "outputs": [
    {
     "data": {
      "text/plain": [
       "11.144736842105264"
      ]
     },
     "execution_count": 44,
     "metadata": {},
     "output_type": "execute_result"
    }
   ],
   "source": [
    "py.var(arr2)"
   ]
  },
  {
   "cell_type": "code",
   "execution_count": 45,
   "id": "6aa6d7ce",
   "metadata": {},
   "outputs": [
    {
     "data": {
      "text/plain": [
       "3.338373382667862"
      ]
     },
     "execution_count": 45,
     "metadata": {},
     "output_type": "execute_result"
    }
   ],
   "source": [
    "py.std(arr2)"
   ]
  },
  {
   "cell_type": "code",
   "execution_count": 46,
   "id": "6a71116f",
   "metadata": {},
   "outputs": [
    {
     "data": {
      "text/plain": [
       "11.0"
      ]
     },
     "execution_count": 46,
     "metadata": {},
     "output_type": "execute_result"
    }
   ],
   "source": [
    "Range = max(arr2) - min(arr2) # Range-max-min\n",
    "Range"
   ]
  },
  {
   "cell_type": "code",
   "execution_count": 48,
   "id": "b9e032b5",
   "metadata": {},
   "outputs": [
    {
     "data": {
      "text/plain": [
       "5.5"
      ]
     },
     "execution_count": 48,
     "metadata": {},
     "output_type": "execute_result"
    }
   ],
   "source": [
    "q3 = py.percentile(arr2,75) \n",
    "q1 = py.percentile(arr2,25)  # Range = max-min\n",
    "IQR =q3 - q1\n",
    "IQR"
   ]
  },
  {
   "cell_type": "code",
   "execution_count": 49,
   "id": "44e8bb66",
   "metadata": {},
   "outputs": [
    {
     "name": "stdout",
     "output_type": "stream",
     "text": [
      "lower_limit: -4.5\n",
      "upper_limit: 17.5\n"
     ]
    }
   ],
   "source": [
    "lower_limit = q1 - (1.5)*(IQR)\n",
    "print(\"lower_limit:\",lower_limit)\n",
    "upper_limit = q3 + (1.5)*(IQR)\n",
    "print(\"upper_limit:\",upper_limit)"
   ]
  },
  {
   "cell_type": "code",
   "execution_count": 50,
   "id": "a3e40ccd",
   "metadata": {},
   "outputs": [
    {
     "name": "stdout",
     "output_type": "stream",
     "text": [
      "[]\n",
      "[]\n"
     ]
    }
   ],
   "source": [
    "print(arr1[arr1>upper_limit])  # outlier-there is no outliers in arr2\n",
    "print(arr1[arr1<lower_limit])"
   ]
  },
  {
   "cell_type": "code",
   "execution_count": null,
   "id": "70f33e67",
   "metadata": {},
   "outputs": [],
   "source": []
  }
 ],
 "metadata": {
  "kernelspec": {
   "display_name": "Python 3 (ipykernel)",
   "language": "python",
   "name": "python3"
  },
  "language_info": {
   "codemirror_mode": {
    "name": "ipython",
    "version": 3
   },
   "file_extension": ".py",
   "mimetype": "text/x-python",
   "name": "python",
   "nbconvert_exporter": "python",
   "pygments_lexer": "ipython3",
   "version": "3.11.4"
  }
 },
 "nbformat": 4,
 "nbformat_minor": 5
}
